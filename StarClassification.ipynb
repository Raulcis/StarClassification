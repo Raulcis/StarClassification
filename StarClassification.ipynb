{
 "cells": [
  {
   "cell_type": "markdown",
   "metadata": {},
   "source": []
  },
  {
   "cell_type": "markdown",
   "metadata": {},
   "source": []
  },
  {
   "cell_type": "markdown",
   "metadata": {},
   "source": [
    "##  <u> Project description/introduction text (the background information) </u>"
   ]
  },
  {
   "cell_type": "markdown",
   "metadata": {},
   "source": [
    "\n",
    "\n",
    "NASA reads and identifies a lot of stars in the universe but identifying stars manually is slower than with machines.This type of problem is important to solve since it would increase the amount of stars we can identify in a short amount of time.\n",
    "This project predicts what type of star the read information best matches.Stars fall into these categories based on how hot and big they are: Red dwarf, Brown Dwarf, White Dwarf, Main Sequence, Super Giants, and  Hyper Giants. They are placed in one of these categories based on their temperature, luminosity, radius, absolute magnitude, color and spectral class.\n",
    "\n",
    "\n",
    "\n",
    "\n"
   ]
  },
  {
   "cell_type": "markdown",
   "metadata": {},
   "source": [
    "##  <u> Machine learning algorithm selected for this project </u>"
   ]
  },
  {
   "cell_type": "markdown",
   "metadata": {},
   "source": [
    "Name and add short description of the algorithm used for this project. You can re-use this text in your final poster submission.\n",
    "\n",
    "Logistic Regression:\n",
    "\n",
    "A regression analysis can be used for classification by converting the prediction to a probability or odds of the observation belonging to a certain class.\n",
    "\n",
    "Logistic regression models output the probability of an event/class based on the values of the input independent variables. It performs classification based on the estimated probability that an observation is of a given class \n",
    "\n",
    "K-Nearest Neighbors:\n",
    "\n",
    "Is a ML classification method for classifying observations into classes/labels. Its an instance-based learning type of algorithm.\n",
    "\n",
    "Support Vector Machines(SVM):\n",
    "\n",
    "SVM are used for supervised ML problems. They can be used for both classification and regression problems but most often used for classification. SVM is a binary classifier. \n",
    "\n",
    "These algorithms above all do well in classification problems.\n",
    "\n",
    "Cross-Validation\n",
    "Sometimes the project does not have enough data for both training and validation datasets. Cross-validation is an approach to resolve the lack of data Procedure: Break training data into X parts/slices/folds. For each fold, train the model on all the data except that fold and use that fold for validation dataset. Average performance across X models\n"
   ]
  },
  {
   "cell_type": "markdown",
   "metadata": {},
   "source": [
    "##  <u> Dataset source </u>"
   ]
  },
  {
   "cell_type": "markdown",
   "metadata": {},
   "source": [
    "List the source from where the dataset for this project was obtained.\n",
    "https://www.kaggle.com/brsdincer/star-type-classification/version/1"
   ]
  },
  {
   "cell_type": "markdown",
   "metadata": {},
   "source": [
    "##  <u> References and sources </u>"
   ]
  },
  {
   "cell_type": "markdown",
   "metadata": {},
   "source": [
    "List all your references and sources here.\n",
    "This includes all sites/discussion boards/blogs/posts/etc. where you grabbed some code examples.\n",
    "https://scikit-learn.org/stable/modules/generated/sklearn.neighbors.KNeighborsClassifier.html\n",
    "https://scikit-learn.org/stable/modules/generated/sklearn.svm.SVC.html\n",
    "https://scikit-learn.org/stable/modules/generated/sklearn.metrics.precision_score.html\n",
    "https://scikit-learn.org/stable/modules/generated/sklearn.metrics.plot_confusion_matrix.html"
   ]
  },
  {
   "cell_type": "markdown",
   "metadata": {},
   "source": [
    "##  <u>Solution</u>"
   ]
  },
  {
   "cell_type": "markdown",
   "metadata": {},
   "source": [
    "#### Load libraries and set random number generator seed"
   ]
  },
  {
   "cell_type": "code",
   "execution_count": 655,
   "metadata": {},
   "outputs": [],
   "source": [
    "import pandas as pd\n",
    "import numpy as np\n",
    "import matplotlib.pyplot as plt\n",
    "import seaborn as sns\n",
    "from sklearn.model_selection import train_test_split\n",
    "from sklearn.linear_model import LogisticRegression\n",
    "from sklearn.neighbors import KNeighborsClassifier\n",
    "from sklearn.preprocessing import StandardScaler\n",
    "from sklearn.metrics import classification_report\n",
    "from sklearn import preprocessing\n",
    "from sklearn.preprocessing import MinMaxScaler\n",
    "from sklearn.svm import SVC\n",
    "from sklearn.model_selection import cross_val_score\n",
    "from sklearn.metrics import plot_confusion_matrix\n",
    "from sklearn.decomposition import PCA\n",
    "from sklearn.model_selection import StratifiedKFold\n",
    "from sklearn.svm import LinearSVC"
   ]
  },
  {
   "cell_type": "code",
   "execution_count": 656,
   "metadata": {},
   "outputs": [],
   "source": [
    "np.random.seed(42)"
   ]
  },
  {
   "cell_type": "markdown",
   "metadata": {},
   "source": [
    "#### Code the solution"
   ]
  },
  {
   "cell_type": "code",
   "execution_count": 657,
   "metadata": {},
   "outputs": [
    {
     "data": {
      "text/html": [
       "<div>\n",
       "<style scoped>\n",
       "    .dataframe tbody tr th:only-of-type {\n",
       "        vertical-align: middle;\n",
       "    }\n",
       "\n",
       "    .dataframe tbody tr th {\n",
       "        vertical-align: top;\n",
       "    }\n",
       "\n",
       "    .dataframe thead th {\n",
       "        text-align: right;\n",
       "    }\n",
       "</style>\n",
       "<table border=\"1\" class=\"dataframe\">\n",
       "  <thead>\n",
       "    <tr style=\"text-align: right;\">\n",
       "      <th></th>\n",
       "      <th>Temperature</th>\n",
       "      <th>L</th>\n",
       "      <th>R</th>\n",
       "      <th>A_M</th>\n",
       "      <th>Color</th>\n",
       "      <th>Spectral_Class</th>\n",
       "      <th>Type</th>\n",
       "    </tr>\n",
       "  </thead>\n",
       "  <tbody>\n",
       "    <tr>\n",
       "      <th>0</th>\n",
       "      <td>3068</td>\n",
       "      <td>0.002400</td>\n",
       "      <td>0.1700</td>\n",
       "      <td>16.12</td>\n",
       "      <td>Red</td>\n",
       "      <td>M</td>\n",
       "      <td>0</td>\n",
       "    </tr>\n",
       "    <tr>\n",
       "      <th>1</th>\n",
       "      <td>3042</td>\n",
       "      <td>0.000500</td>\n",
       "      <td>0.1542</td>\n",
       "      <td>16.60</td>\n",
       "      <td>Red</td>\n",
       "      <td>M</td>\n",
       "      <td>0</td>\n",
       "    </tr>\n",
       "    <tr>\n",
       "      <th>2</th>\n",
       "      <td>2600</td>\n",
       "      <td>0.000300</td>\n",
       "      <td>0.1020</td>\n",
       "      <td>18.70</td>\n",
       "      <td>Red</td>\n",
       "      <td>M</td>\n",
       "      <td>0</td>\n",
       "    </tr>\n",
       "    <tr>\n",
       "      <th>3</th>\n",
       "      <td>2800</td>\n",
       "      <td>0.000200</td>\n",
       "      <td>0.1600</td>\n",
       "      <td>16.65</td>\n",
       "      <td>Red</td>\n",
       "      <td>M</td>\n",
       "      <td>0</td>\n",
       "    </tr>\n",
       "    <tr>\n",
       "      <th>4</th>\n",
       "      <td>1939</td>\n",
       "      <td>0.000138</td>\n",
       "      <td>0.1030</td>\n",
       "      <td>20.06</td>\n",
       "      <td>Red</td>\n",
       "      <td>M</td>\n",
       "      <td>0</td>\n",
       "    </tr>\n",
       "  </tbody>\n",
       "</table>\n",
       "</div>"
      ],
      "text/plain": [
       "   Temperature         L       R    A_M Color Spectral_Class  Type\n",
       "0         3068  0.002400  0.1700  16.12   Red              M     0\n",
       "1         3042  0.000500  0.1542  16.60   Red              M     0\n",
       "2         2600  0.000300  0.1020  18.70   Red              M     0\n",
       "3         2800  0.000200  0.1600  16.65   Red              M     0\n",
       "4         1939  0.000138  0.1030  20.06   Red              M     0"
      ]
     },
     "execution_count": 657,
     "metadata": {},
     "output_type": "execute_result"
    }
   ],
   "source": [
    "df = pd.read_csv('Stars.csv')\n",
    "df.head()"
   ]
  },
  {
   "cell_type": "code",
   "execution_count": 658,
   "metadata": {},
   "outputs": [
    {
     "data": {
      "image/png": "[encoded data removed]",
      "text/plain": [
       "<Figure size 432x288 with 1 Axes>"
      ]
     },
     "metadata": {
      "needs_background": "light"
     },
     "output_type": "display_data"
    }
   ],
   "source": [
    "target = 'Type'\n",
    "df.groupby(target)['L'].count().plot.bar()\n",
    "\n",
    "plt.ylabel('Count')\n",
    "plt.show()"
   ]
  },
  {
   "cell_type": "code",
   "execution_count": 659,
   "metadata": {},
   "outputs": [
    {
     "data": {
      "image/png": "[encoded data removed]",
      "text/plain": [
       "<Figure size 432x288 with 1 Axes>"
      ]
     },
     "metadata": {
      "needs_background": "light"
     },
     "output_type": "display_data"
    }
   ],
   "source": [
    "df.groupby('Spectral_Class')['L'].count().plot.bar()\n",
    "\n",
    "plt.ylabel('Count')\n",
    "plt.show()"
   ]
  },
  {
   "cell_type": "code",
   "execution_count": 660,
   "metadata": {},
   "outputs": [
    {
     "data": {
      "image/png": "[encoded data removed]",
      "text/plain": [
       "<Figure size 1440x720 with 1 Axes>"
      ]
     },
     "metadata": {
      "needs_background": "light"
     },
     "output_type": "display_data"
    }
   ],
   "source": [
    "plt.figure(figsize=(20,10))\n",
    "plt.title('Value Count of Color')\n",
    "plt.xticks(rotation=90)\n",
    "sns.countplot(data=df, x='Color');"
   ]
  },
  {
   "cell_type": "code",
   "execution_count": 661,
   "metadata": {},
   "outputs": [
    {
     "data": {
      "text/plain": [
       "((192, 26), (48, 26))"
      ]
     },
     "execution_count": 661,
     "metadata": {},
     "output_type": "execute_result"
    }
   ],
   "source": [
    "X = df.drop('Type', axis = 1)\n",
    "X = pd.get_dummies(X, drop_first = True)\n",
    "Y = df['Type']\n",
    "x_train, x_test, y_train, y_test = train_test_split(X,Y, test_size=0.2, random_state=0)\n",
    "\n",
    "scaler = scaler = MinMaxScaler()\n",
    "scaler.fit(x_train)\n",
    "\n",
    "x_trainScaled = scaler.transform(x_train)\n",
    "x_testScaled = scaler.transform(x_test)\n",
    "\n",
    "x_train.shape, x_test.shape\n"
   ]
  },
  {
   "cell_type": "markdown",
   "metadata": {},
   "source": [
    "# <b>Logistic regression</b>"
   ]
  },
  {
   "cell_type": "code",
   "execution_count": 662,
   "metadata": {
    "scrolled": false
   },
   "outputs": [
    {
     "name": "stdout",
     "output_type": "stream",
     "text": [
      "              precision    recall  f1-score   support\n",
      "\n",
      "           0       0.54      1.00      0.70         7\n",
      "           1       1.00      0.33      0.50         9\n",
      "           2       1.00      1.00      1.00         7\n",
      "           3       1.00      1.00      1.00         8\n",
      "           4       1.00      1.00      1.00        11\n",
      "           5       1.00      1.00      1.00         6\n",
      "\n",
      "    accuracy                           0.88        48\n",
      "   macro avg       0.92      0.89      0.87        48\n",
      "weighted avg       0.93      0.88      0.86        48\n",
      "\n",
      "0.875\n"
     ]
    },
    {
     "data": {
      "text/plain": [
       "<sklearn.metrics._plot.confusion_matrix.ConfusionMatrixDisplay at 0x1f4a12434a8>"
      ]
     },
     "execution_count": 662,
     "metadata": {},
     "output_type": "execute_result"
    },
    {
     "data": {
      "image/png": "[encoded data removed]",
      "text/plain": [
       "<Figure size 432x288 with 2 Axes>"
      ]
     },
     "metadata": {
      "needs_background": "light"
     },
     "output_type": "display_data"
    }
   ],
   "source": [
    "scores = {}\n",
    "\n",
    "model = LogisticRegression()\n",
    "\n",
    "model.fit(x_trainScaled, y_train)\n",
    "\n",
    "y_pred = model.predict(x_testScaled)\n",
    "\n",
    "print(classification_report(y_test, y_pred))\n",
    "\n",
    "scores['Logistic Regression'] = model.score(x_testScaled, y_test)\n",
    "\n",
    "print(model.score(x_testScaled, y_test))\n",
    "\n",
    "plot_confusion_matrix(model,X_test,y_test)"
   ]
  },
  {
   "cell_type": "markdown",
   "metadata": {},
   "source": [
    "# <b>KNN</b>"
   ]
  },
  {
   "cell_type": "code",
   "execution_count": 663,
   "metadata": {},
   "outputs": [
    {
     "name": "stdout",
     "output_type": "stream",
     "text": [
      "              precision    recall  f1-score   support\n",
      "\n",
      "           0       1.00      1.00      1.00         7\n",
      "           1       1.00      1.00      1.00         9\n",
      "           2       1.00      1.00      1.00         7\n",
      "           3       0.89      1.00      0.94         8\n",
      "           4       1.00      0.91      0.95        11\n",
      "           5       1.00      1.00      1.00         6\n",
      "\n",
      "    accuracy                           0.98        48\n",
      "   macro avg       0.98      0.98      0.98        48\n",
      "weighted avg       0.98      0.98      0.98        48\n",
      "\n"
     ]
    },
    {
     "data": {
      "text/plain": [
       "<sklearn.metrics._plot.confusion_matrix.ConfusionMatrixDisplay at 0x1f4a600b908>"
      ]
     },
     "execution_count": 663,
     "metadata": {},
     "output_type": "execute_result"
    },
    {
     "data": {
      "image/png": "[encoded data removed]",
      "text/plain": [
       "<Figure size 432x288 with 2 Axes>"
      ]
     },
     "metadata": {
      "needs_background": "light"
     },
     "output_type": "display_data"
    }
   ],
   "source": [
    "storeScore = []\n",
    "n_neighbors = [3, 4, 5, 6, 7, 8, 9, 10]\n",
    "\n",
    "for i in n_neighbors:\n",
    "    model = KNeighborsClassifier(n_neighbors = i)\n",
    "    model.fit(x_trainScaled, y_train)\n",
    "    storeScore.append(model.score(x_testScaled, y_test))\n",
    "    \n",
    "accurateNeighbors = n_neighbors[storeScore.index(max(storeScore))]\n",
    "\n",
    "model = KNeighborsClassifier(n_neighbors = accurateNeighbors)\n",
    "\n",
    "model.fit(x_trainScaled, y_train)\n",
    "\n",
    "y_pred = model.predict(x_testScaled)\n",
    "\n",
    "print(classification_report(y_test, y_pred))\n",
    "\n",
    "scores['KNN'] = model.score(x_testScaled, y_test)\n",
    "\n",
    "plot_confusion_matrix(model,X_test,y_test)"
   ]
  },
  {
   "cell_type": "markdown",
   "metadata": {},
   "source": [
    "# <b>SVM</b>"
   ]
  },
  {
   "cell_type": "code",
   "execution_count": 664,
   "metadata": {},
   "outputs": [
    {
     "name": "stdout",
     "output_type": "stream",
     "text": [
      "              precision    recall  f1-score   support\n",
      "\n",
      "           0       0.88      1.00      0.93         7\n",
      "           1       1.00      0.89      0.94         9\n",
      "           2       1.00      1.00      1.00         7\n",
      "           3       1.00      1.00      1.00         8\n",
      "           4       1.00      1.00      1.00        11\n",
      "           5       1.00      1.00      1.00         6\n",
      "\n",
      "    accuracy                           0.98        48\n",
      "   macro avg       0.98      0.98      0.98        48\n",
      "weighted avg       0.98      0.98      0.98        48\n",
      "\n"
     ]
    },
    {
     "data": {
      "text/plain": [
       "<sklearn.metrics._plot.confusion_matrix.ConfusionMatrixDisplay at 0x1f4a610f5f8>"
      ]
     },
     "execution_count": 664,
     "metadata": {},
     "output_type": "execute_result"
    },
    {
     "data": {
      "image/png": "[encoded data removed]",
      "text/plain": [
       "<Figure size 432x288 with 2 Axes>"
      ]
     },
     "metadata": {
      "needs_background": "light"
     },
     "output_type": "display_data"
    }
   ],
   "source": [
    "model = SVC(kernel = 'poly')\n",
    "\n",
    "model.fit(x_trainScaled, y_train)\n",
    "\n",
    "y_pred = model.predict(x_testScaled)\n",
    "\n",
    "print(classification_report(y_test, y_pred,zero_division=1))\n",
    "\n",
    "scores['SVM'] = model.score(x_testScaled,y_test)\n",
    "\n",
    "plot_confusion_matrix(model,X_test,y_test)"
   ]
  },
  {
   "cell_type": "code",
   "execution_count": 665,
   "metadata": {},
   "outputs": [
    {
     "name": "stdout",
     "output_type": "stream",
     "text": [
      "Logistic Regression: 87.5% accuracy\n",
      "KNN: 97.92%  accuracy\n",
      "SVM: 97.92% accuracy\n"
     ]
    }
   ],
   "source": [
    "print(\"Logistic Regression:\",str(scores['Logistic Regression'] * 100) + \"%\", \"accuracy\")\n",
    "print(\"KNN:\",str(round(scores['KNN'] * 100,2)) + \"%\", \" accuracy\")\n",
    "print(\"SVM:\",str(round(scores['SVM'] * 100,2)) + \"%\", \"accuracy\")"
   ]
  },
  {
   "cell_type": "markdown",
   "metadata": {},
   "source": [
    "# <b>Cross Validation<b>"
   ]
  },
  {
   "cell_type": "code",
   "execution_count": 666,
   "metadata": {},
   "outputs": [
    {
     "name": "stdout",
     "output_type": "stream",
     "text": [
      "Individual cross-validation accuracies:\n",
      "1 :  0.9375\n",
      "2 :  0.8541666666666666\n",
      "3 :  0.9583333333333334\n",
      "4 :  1.0\n",
      "5 :  0.9791666666666666\n"
     ]
    }
   ],
   "source": [
    "temp = StandardScaler().fit_transform(X)\n",
    "xScaled = pd.DataFrame(data=temp, index=X.index, columns=X.columns)\n",
    "\n",
    "\n",
    "pca = PCA(n_components=2)\n",
    "pca.fit(xScaled)\n",
    "\n",
    "PcaX = pca.transform(xScaled)\n",
    "PcaDf = pd.DataFrame(data = PcaX,columns = [\"1st PC\", \"2nd PC\"])\n",
    "\n",
    "PcaDf['Class'] = Y\n",
    "\n",
    "PcaDf.head()\n",
    "\n",
    "skf = StratifiedKFold(n_splits=5)\n",
    "\n",
    "skf.get_n_splits(xScaled, Y)\n",
    "\n",
    "model = LinearSVC()\n",
    "\n",
    "scores = cross_val_score(model, xScaled, Y, scoring='accuracy', cv=skf, n_jobs=-1)\n",
    "\n",
    "print(\"Individual cross-validation accuracies:\")\n",
    "for i, x in enumerate(scores):\n",
    "    print(i + 1, \": \", x)"
   ]
  }
 ],
 "metadata": {
  "kernelspec": {
   "display_name": "Python 3 (ipykernel)",
   "language": "python",
   "name": "python3"
  },
  "language_info": {
   "codemirror_mode": {
    "name": "ipython",
    "version": 3
   },
   "file_extension": ".py",
   "mimetype": "text/x-python",
   "name": "python",
   "nbconvert_exporter": "python",
   "pygments_lexer": "ipython3",
   "version": "3.7.0"
  }
 },
 "nbformat": 4,
 "nbformat_minor": 4
}
